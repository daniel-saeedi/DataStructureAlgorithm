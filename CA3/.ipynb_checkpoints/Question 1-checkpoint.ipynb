{
 "cells": [
  {
   "cell_type": "code",
   "execution_count": 24,
   "metadata": {},
   "outputs": [
    {
     "name": "stdout",
     "output_type": "stream",
     "text": [
      "1 \n"
     ]
    }
   ],
   "source": [
    "# A Space efficient Dynamic Programming\n",
    "# based Python3 program to find minimum\n",
    "# number operations to convert str1 to str2\n",
    "def EditDistDP(str1, str2):\n",
    "\n",
    "\tlen1 = len(str1)\n",
    "\tlen2 = len(str2)\n",
    "\n",
    "\t# Create a DP array to memoize result\n",
    "\t# of previous computations\n",
    "\tDP = [[0 for i in range(len1 + 1)]\n",
    "\t\t\tfor j in range(2)];\n",
    "\n",
    "\t# Base condition when second String\n",
    "\t# is empty then we remove all characters\n",
    "\tfor i in range(0, len1 + 1):\n",
    "\t\tDP[0][i] = i\n",
    "\n",
    "\t# Start filling the DP\n",
    "\t# This loop run for every\n",
    "\t# character in second String\n",
    "\tfor i in range(1, len2 + 1):\n",
    "\t\t\n",
    "\t\t# This loop compares the char from\n",
    "\t\t# second String with first String\n",
    "\t\t# characters\n",
    "\t\tfor j in range(0, len1 + 1):\n",
    "\n",
    "\t\t\t# If first String is empty then\n",
    "\t\t\t# we have to perform add character\n",
    "\t\t\t# operation to get second String\n",
    "\t\t\tif (j == 0):\n",
    "\t\t\t\tDP[i % 2][j] = i\n",
    "\n",
    "\t\t\t# If character from both String\n",
    "\t\t\t# is same then we do not perform any\n",
    "\t\t\t# operation . here i % 2 is for bound\n",
    "        # the row number.\n",
    "\t\t\telif(str1[j - 1] == str2[i-1]):\n",
    "\t\t\t\tDP[i % 2][j] = DP[(i - 1) % 2][j - 1]\n",
    "\t\t\t\n",
    "\t\t\t# If character from both String is\n",
    "\t\t\t# not same then we take the minimum\n",
    "\t\t\t# from three specified operation\n",
    "\t\t\telse:\n",
    "\t\t\t\tDP[i % 2][j] = (1 + min(DP[(i - 1) % 2][j],\n",
    "\t\t\t\t\t\t\t\t\tmin(DP[i % 2][j - 1],\n",
    "\t\t\t\t\t\t\t\tDP[(i - 1) % 2][j - 1])))\n",
    "\t\t\t\n",
    "\t# After complete fill the DP array\n",
    "\t# if the len2 is even then we end\n",
    "\t# up in the 0th row else we end up\n",
    "\t# in the 1th row so we take len2 % 2\n",
    "\t# to get row\n",
    "\tprint(DP[len2 % 2][len1], \"\")\n",
    "\n",
    "# Driver code\n",
    "if __name__ == '__main__':\n",
    "\t\n",
    "\tstr1 = \"aac\"\n",
    "\tstr2 = \"aac\"\n",
    "\t\n",
    "\tEditDistDP(str1, str2)\n",
    "\n",
    "# This code is contributed by gauravrajput1\n"
   ]
  },
  {
   "cell_type": "code",
   "execution_count": null,
   "metadata": {},
   "outputs": [],
   "source": []
  },
  {
   "cell_type": "code",
   "execution_count": null,
   "metadata": {},
   "outputs": [],
   "source": []
  }
 ],
 "metadata": {
  "kernelspec": {
   "display_name": "Python 3",
   "language": "python",
   "name": "python3"
  },
  "language_info": {
   "codemirror_mode": {
    "name": "ipython",
    "version": 3
   },
   "file_extension": ".py",
   "mimetype": "text/x-python",
   "name": "python",
   "nbconvert_exporter": "python",
   "pygments_lexer": "ipython3",
   "version": "3.8.3"
  }
 },
 "nbformat": 4,
 "nbformat_minor": 4
}
