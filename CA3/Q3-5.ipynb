{
 "cells": [
  {
   "cell_type": "code",
   "execution_count": 25,
   "metadata": {},
   "outputs": [],
   "source": [
    "class TreapNode(object):\n",
    "    def __init__(self, key, ran,index):\n",
    "        self.key = key\n",
    "        self.ran = ran\n",
    "        self.index = index\n",
    "        self.size = 1\n",
    "        self.cnt = 1\n",
    "        self.left = None\n",
    "        self.right = None\n",
    "        self.parent = None\n",
    "\n",
    "    def left_rotate(self):\n",
    "        a = self\n",
    "        b = a.right\n",
    "        a.right = b.left\n",
    "        b.left = a\n",
    "        a = b\n",
    "        b = a.left\n",
    "        b.size = b.left_size() + b.right_size() + b.cnt\n",
    "        a.size = a.left_size() + a.right_size() + a.cnt\n",
    "        return a\n",
    "\n",
    "    def right_rotate(self):\n",
    "        a = self\n",
    "        b = a.left\n",
    "        a.left = b.right\n",
    "        b.right = a\n",
    "        a = b\n",
    "        b = a.right\n",
    "        b.size = b.left_size() + b.right_size() + b.cnt\n",
    "        a.size = a.left_size() + a.right_size() + a.cnt\n",
    "        return a\n",
    "\n",
    "    def left_size(self):\n",
    "        return 0 if self.left is None else self.left.size\n",
    "\n",
    "    def right_size(self):\n",
    "        return 0 if self.right is None else self.right.size\n",
    "\n",
    "\n",
    "class Treap(object):\n",
    "    def __init__(self):\n",
    "        self.root = None\n",
    "        self.nodes = []\n",
    "\n",
    "    def _insert(self, node, key, priority, index):\n",
    "        if node is None:\n",
    "            node = TreapNode(key, priority, index)\n",
    "            self.nodes.append(node)\n",
    "            return node\n",
    "        node.size += 1\n",
    "        if key < node.key:\n",
    "            node.left = self._insert(node.left, key, priority, index)\n",
    "            if node.left.ran < node.ran:\n",
    "                node = node.right_rotate()\n",
    "        elif key >= node.key:\n",
    "            node.right = self._insert(node.right, key, priority, index)\n",
    "            if node.right.ran < node.ran:\n",
    "                node = node.left_rotate()\n",
    "        return node\n",
    "\n",
    "    def insert(self, key, priority,index):\n",
    "        self.root = self._insert(self.root, key, priority, index)\n",
    "    \n",
    "    def size(self):\n",
    "        return 0 if self.root is None else self.root.size\n",
    "    \n",
    "    def print(self) :\n",
    "        for node in self.nodes :\n",
    "            s = \"\"\n",
    "            if(node.parent == None) :\n",
    "                s += \"0 \"\n",
    "            else :\n",
    "                s += str(node.parent.index) + \" \"\n",
    "            \n",
    "            if(node.left == None) :\n",
    "                s += \"0 \"\n",
    "            else :\n",
    "                s += str(node.left.index) + \" \"\n",
    "            \n",
    "            if(node.right == None) :\n",
    "                s += \"0 \"\n",
    "            else :\n",
    "                s += str(node.right.index)\n",
    "            \n",
    "            print(s)"
   ]
  },
  {
   "cell_type": "code",
   "execution_count": 33,
   "metadata": {},
   "outputs": [
    {
     "data": {
      "text/plain": [
       "2"
      ]
     },
     "execution_count": 33,
     "metadata": {},
     "output_type": "execute_result"
    }
   ],
   "source": [
    "t = Treap()\n",
    "t.insert(2,3,1)\n",
    "t.insert(1,5,2)\n",
    "t.insert(3,8,3)\n",
    "t.insert(4,1,4)\n",
    "\n",
    "# t.print()"
   ]
  },
  {
   "cell_type": "code",
   "execution_count": 17,
   "metadata": {},
   "outputs": [],
   "source": [
    "# def main() :\n",
    "#     t = Treap()\n",
    "#     n = int(input())\n",
    "#     for i in range(1,n+1) :\n",
    "#         key, priority = input().split()\n",
    "#         key = int(key)\n",
    "#         priority = int(priority)\n",
    "#         t.insert(key,priority,i)\n",
    "#     print(\"YES\")\n",
    "#     t.print()"
   ]
  },
  {
   "cell_type": "code",
   "execution_count": 18,
   "metadata": {},
   "outputs": [],
   "source": [
    "main()"
   ]
  },
  {
   "cell_type": "code",
   "execution_count": null,
   "metadata": {},
   "outputs": [],
   "source": []
  }
 ],
 "metadata": {
  "kernelspec": {
   "display_name": "Python 3",
   "language": "python",
   "name": "python3"
  },
  "language_info": {
   "codemirror_mode": {
    "name": "ipython",
    "version": 3
   },
   "file_extension": ".py",
   "mimetype": "text/x-python",
   "name": "python",
   "nbconvert_exporter": "python",
   "pygments_lexer": "ipython3",
   "version": "3.8.3"
  }
 },
 "nbformat": 4,
 "nbformat_minor": 4
}
