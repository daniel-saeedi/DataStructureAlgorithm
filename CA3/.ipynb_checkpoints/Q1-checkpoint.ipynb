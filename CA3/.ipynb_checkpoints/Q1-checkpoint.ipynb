{
 "cells": [
  {
   "cell_type": "code",
   "execution_count": 119,
   "metadata": {},
   "outputs": [],
   "source": [
    "def quick_sort(array) :\n",
    "\n",
    "    less = []\n",
    "    equal = []\n",
    "    greater = []\n",
    "\n",
    "    if len(array) > 1:\n",
    "        pivot = array[0]\n",
    "        for x in array:\n",
    "            if x < pivot:\n",
    "                less.append(x)\n",
    "            elif x == pivot:\n",
    "                equal.append(x)\n",
    "            elif x > pivot:\n",
    "                greater.append(x)\n",
    "        return quick_sort(less)+equal+quick_sort(greater)\n",
    "    else: \n",
    "        return array\n",
    "\n",
    "class WellSort :\n",
    "    def __init__(self,n,array) :\n",
    "        self.array = array\n",
    "        self.n = n\n",
    "    def s(self) :\n",
    "        self.array = quick_sort(self.array)\n",
    "        \n",
    "        result = str()\n",
    "        \n",
    "        if self.n % 2 :\n",
    "            j = int(self.n/2)+1\n",
    "        else :\n",
    "            j = int(self.n/2)\n",
    "        \n",
    "        for i in range(j) :\n",
    "            result += str(self.array[i])\n",
    "            if i < j - 1 : result += \" \"\n",
    "            if j < self.n :\n",
    "                result += str(self.array[j]) + \" \"\n",
    "                j += 1\n",
    "        print(result)\n",
    "        "
   ]
  },
  {
   "cell_type": "code",
   "execution_count": 120,
   "metadata": {},
   "outputs": [
    {
     "name": "stdout",
     "output_type": "stream",
     "text": [
      "5\n",
      "1 6 4 3 3\n",
      "1 4 3 6 3 \n"
     ]
    }
   ],
   "source": [
    "n = input()\n",
    "l = []\n",
    "s = input()\n",
    "for i in s.split() :\n",
    "    l.append(int(i))\n",
    "ws = WellSort(int(n),l)\n",
    "ws.s()"
   ]
  },
  {
   "cell_type": "code",
   "execution_count": null,
   "metadata": {},
   "outputs": [],
   "source": []
  }
 ],
 "metadata": {
  "kernelspec": {
   "display_name": "Python 3",
   "language": "python",
   "name": "python3"
  },
  "language_info": {
   "codemirror_mode": {
    "name": "ipython",
    "version": 3
   },
   "file_extension": ".py",
   "mimetype": "text/x-python",
   "name": "python",
   "nbconvert_exporter": "python",
   "pygments_lexer": "ipython3",
   "version": "3.8.3"
  }
 },
 "nbformat": 4,
 "nbformat_minor": 4
}
